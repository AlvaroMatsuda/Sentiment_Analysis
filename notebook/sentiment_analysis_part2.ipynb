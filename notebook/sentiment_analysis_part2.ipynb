{
 "cells": [
  {
   "attachments": {},
   "cell_type": "markdown",
   "metadata": {},
   "source": [
    "# Part 1"
   ]
  },
  {
   "attachments": {},
   "cell_type": "markdown",
   "metadata": {},
   "source": [
    "# Loading Dataset"
   ]
  },
  {
   "cell_type": "code",
   "execution_count": 1,
   "metadata": {},
   "outputs": [
    {
     "data": {
      "text/html": [
       "<div>\n",
       "<style scoped>\n",
       "    .dataframe tbody tr th:only-of-type {\n",
       "        vertical-align: middle;\n",
       "    }\n",
       "\n",
       "    .dataframe tbody tr th {\n",
       "        vertical-align: top;\n",
       "    }\n",
       "\n",
       "    .dataframe thead th {\n",
       "        text-align: right;\n",
       "    }\n",
       "</style>\n",
       "<table border=\"1\" class=\"dataframe\">\n",
       "  <thead>\n",
       "    <tr style=\"text-align: right;\">\n",
       "      <th></th>\n",
       "      <th>Time_submitted</th>\n",
       "      <th>Review</th>\n",
       "      <th>Rating</th>\n",
       "      <th>Total_thumbsup</th>\n",
       "      <th>Reply</th>\n",
       "    </tr>\n",
       "  </thead>\n",
       "  <tbody>\n",
       "    <tr>\n",
       "      <th>0</th>\n",
       "      <td>2022-07-09 15:00:00</td>\n",
       "      <td>Great music service, the audio is high quality...</td>\n",
       "      <td>5</td>\n",
       "      <td>2</td>\n",
       "      <td>NaN</td>\n",
       "    </tr>\n",
       "    <tr>\n",
       "      <th>1</th>\n",
       "      <td>2022-07-09 14:21:22</td>\n",
       "      <td>Please ignore previous negative rating. This a...</td>\n",
       "      <td>5</td>\n",
       "      <td>1</td>\n",
       "      <td>NaN</td>\n",
       "    </tr>\n",
       "    <tr>\n",
       "      <th>2</th>\n",
       "      <td>2022-07-09 13:27:32</td>\n",
       "      <td>This pop-up \"Get the best Spotify experience o...</td>\n",
       "      <td>4</td>\n",
       "      <td>0</td>\n",
       "      <td>NaN</td>\n",
       "    </tr>\n",
       "    <tr>\n",
       "      <th>3</th>\n",
       "      <td>2022-07-09 13:26:45</td>\n",
       "      <td>Really buggy and terrible to use as of recently</td>\n",
       "      <td>1</td>\n",
       "      <td>1</td>\n",
       "      <td>NaN</td>\n",
       "    </tr>\n",
       "    <tr>\n",
       "      <th>4</th>\n",
       "      <td>2022-07-09 13:20:49</td>\n",
       "      <td>Dear Spotify why do I get songs that I didn't ...</td>\n",
       "      <td>1</td>\n",
       "      <td>1</td>\n",
       "      <td>NaN</td>\n",
       "    </tr>\n",
       "    <tr>\n",
       "      <th>...</th>\n",
       "      <td>...</td>\n",
       "      <td>...</td>\n",
       "      <td>...</td>\n",
       "      <td>...</td>\n",
       "      <td>...</td>\n",
       "    </tr>\n",
       "    <tr>\n",
       "      <th>61589</th>\n",
       "      <td>2022-01-01 03:01:29</td>\n",
       "      <td>Even though it was communicated that lyrics fe...</td>\n",
       "      <td>1</td>\n",
       "      <td>6</td>\n",
       "      <td>NaN</td>\n",
       "    </tr>\n",
       "    <tr>\n",
       "      <th>61590</th>\n",
       "      <td>2022-01-01 02:13:40</td>\n",
       "      <td>Use to be sooo good back when I had it, and wh...</td>\n",
       "      <td>1</td>\n",
       "      <td>0</td>\n",
       "      <td>NaN</td>\n",
       "    </tr>\n",
       "    <tr>\n",
       "      <th>61591</th>\n",
       "      <td>2022-01-01 01:02:29</td>\n",
       "      <td>This app would be good if not for it taking ov...</td>\n",
       "      <td>2</td>\n",
       "      <td>10</td>\n",
       "      <td>NaN</td>\n",
       "    </tr>\n",
       "    <tr>\n",
       "      <th>61592</th>\n",
       "      <td>2022-01-01 00:49:23</td>\n",
       "      <td>The app is good hard to navigate and won't jus...</td>\n",
       "      <td>2</td>\n",
       "      <td>1</td>\n",
       "      <td>NaN</td>\n",
       "    </tr>\n",
       "    <tr>\n",
       "      <th>61593</th>\n",
       "      <td>2022-01-01 00:19:09</td>\n",
       "      <td>Its good but sometimes it doesnt load the musi...</td>\n",
       "      <td>4</td>\n",
       "      <td>0</td>\n",
       "      <td>NaN</td>\n",
       "    </tr>\n",
       "  </tbody>\n",
       "</table>\n",
       "<p>61594 rows × 5 columns</p>\n",
       "</div>"
      ],
      "text/plain": [
       "            Time_submitted                                             Review  \\\n",
       "0      2022-07-09 15:00:00  Great music service, the audio is high quality...   \n",
       "1      2022-07-09 14:21:22  Please ignore previous negative rating. This a...   \n",
       "2      2022-07-09 13:27:32  This pop-up \"Get the best Spotify experience o...   \n",
       "3      2022-07-09 13:26:45    Really buggy and terrible to use as of recently   \n",
       "4      2022-07-09 13:20:49  Dear Spotify why do I get songs that I didn't ...   \n",
       "...                    ...                                                ...   \n",
       "61589  2022-01-01 03:01:29  Even though it was communicated that lyrics fe...   \n",
       "61590  2022-01-01 02:13:40  Use to be sooo good back when I had it, and wh...   \n",
       "61591  2022-01-01 01:02:29  This app would be good if not for it taking ov...   \n",
       "61592  2022-01-01 00:49:23  The app is good hard to navigate and won't jus...   \n",
       "61593  2022-01-01 00:19:09  Its good but sometimes it doesnt load the musi...   \n",
       "\n",
       "       Rating  Total_thumbsup Reply  \n",
       "0           5               2   NaN  \n",
       "1           5               1   NaN  \n",
       "2           4               0   NaN  \n",
       "3           1               1   NaN  \n",
       "4           1               1   NaN  \n",
       "...       ...             ...   ...  \n",
       "61589       1               6   NaN  \n",
       "61590       1               0   NaN  \n",
       "61591       2              10   NaN  \n",
       "61592       2               1   NaN  \n",
       "61593       4               0   NaN  \n",
       "\n",
       "[61594 rows x 5 columns]"
      ]
     },
     "execution_count": 1,
     "metadata": {},
     "output_type": "execute_result"
    }
   ],
   "source": [
    "# Importing\n",
    "import pandas as pd\n",
    "# pd.set_option('display.max_columns', None)\n",
    "\n",
    "# Loading Dataset\n",
    "df = pd.read_csv(r'https://github.com/AlvaroMatsuda/Sentiment_Analysis/blob/main/data/reviews.csv?raw=true')\n",
    "df"
   ]
  },
  {
   "attachments": {},
   "cell_type": "markdown",
   "metadata": {},
   "source": [
    "# Tokenization"
   ]
  },
  {
   "cell_type": "code",
   "execution_count": 2,
   "metadata": {},
   "outputs": [
    {
     "data": {
      "text/plain": [
       "'Great music service, the audio is high quality and the app is easy to use. Also very quick and friendly support.'"
      ]
     },
     "execution_count": 2,
     "metadata": {},
     "output_type": "execute_result"
    }
   ],
   "source": [
    "# Extracting only one review\n",
    "sentence = df['Review'][0]\n",
    "sentence"
   ]
  },
  {
   "cell_type": "code",
   "execution_count": 3,
   "metadata": {},
   "outputs": [
    {
     "data": {
      "text/plain": [
       "['Great',\n",
       " 'music',\n",
       " 'service',\n",
       " ',',\n",
       " 'the',\n",
       " 'audio',\n",
       " 'is',\n",
       " 'high',\n",
       " 'quality',\n",
       " 'and',\n",
       " 'the',\n",
       " 'app',\n",
       " 'is',\n",
       " 'easy',\n",
       " 'to',\n",
       " 'use',\n",
       " '.',\n",
       " 'Also',\n",
       " 'very',\n",
       " 'quick',\n",
       " 'and',\n",
       " 'friendly',\n",
       " 'support',\n",
       " '.']"
      ]
     },
     "execution_count": 3,
     "metadata": {},
     "output_type": "execute_result"
    }
   ],
   "source": [
    "# Importing\n",
    "from nltk.tokenize import word_tokenize\n",
    "\n",
    "# Tokenizing a single review\n",
    "tokens = word_tokenize(sentence)\n",
    "tokens"
   ]
  },
  {
   "cell_type": "code",
   "execution_count": 4,
   "metadata": {},
   "outputs": [
    {
     "data": {
      "text/plain": [
       "0        [Great, music, service, ,, the, audio, is, hig...\n",
       "1        [Please, ignore, previous, negative, rating, ....\n",
       "2        [This, pop-up, ``, Get, the, best, Spotify, ex...\n",
       "3        [Really, buggy, and, terrible, to, use, as, of...\n",
       "4        [Dear, Spotify, why, do, I, get, songs, that, ...\n",
       "                               ...                        \n",
       "61589    [Even, though, it, was, communicated, that, ly...\n",
       "61590    [Use, to, be, sooo, good, back, when, I, had, ...\n",
       "61591    [This, app, would, be, good, if, not, for, it,...\n",
       "61592    [The, app, is, good, hard, to, navigate, and, ...\n",
       "61593    [Its, good, but, sometimes, it, doesnt, load, ...\n",
       "Name: Review, Length: 61594, dtype: object"
      ]
     },
     "execution_count": 4,
     "metadata": {},
     "output_type": "execute_result"
    }
   ],
   "source": [
    "# Tokenizing all rows from dataframe\n",
    "review_tokens = df['Review'].apply(word_tokenize)\n",
    "review_tokens"
   ]
  },
  {
   "attachments": {},
   "cell_type": "markdown",
   "metadata": {},
   "source": [
    "# Removing Punctuation"
   ]
  },
  {
   "cell_type": "code",
   "execution_count": 5,
   "metadata": {},
   "outputs": [
    {
     "data": {
      "text/plain": [
       "('Great music service the audio is high quality and the app is easy to use Also very quick and friendly support',\n",
       " 'Great music service, the audio is high quality and the app is easy to use. Also very quick and friendly support.')"
      ]
     },
     "execution_count": 5,
     "metadata": {},
     "output_type": "execute_result"
    }
   ],
   "source": [
    "# Imports\n",
    "import string\n",
    "\n",
    "# Creating translator object\n",
    "translator = str.maketrans('', '', string.punctuation)\n",
    "\n",
    "# Removing punctuation from sentence\n",
    "punct_removed = sentence.translate(translator)\n",
    "\n",
    "# Printing sentence with and without punctuation\n",
    "punct_removed, sentence"
   ]
  },
  {
   "cell_type": "code",
   "execution_count": 6,
   "metadata": {},
   "outputs": [
    {
     "data": {
      "text/plain": [
       "'!\"#$%&\\'()*+,-./:;<=>?@[\\\\]^_`{|}~'"
      ]
     },
     "execution_count": 6,
     "metadata": {},
     "output_type": "execute_result"
    }
   ],
   "source": [
    "string.punctuation"
   ]
  },
  {
   "cell_type": "code",
   "execution_count": 7,
   "metadata": {},
   "outputs": [
    {
     "data": {
      "text/plain": [
       "0        Great music service the audio is high quality ...\n",
       "1        Please ignore previous negative rating This ap...\n",
       "2        This popup Get the best Spotify experience on ...\n",
       "3          Really buggy and terrible to use as of recently\n",
       "4        Dear Spotify why do I get songs that I didnt p...\n",
       "                               ...                        \n",
       "61589    Even though it was communicated that lyrics fe...\n",
       "61590    Use to be sooo good back when I had it and whe...\n",
       "61591    This app would be good if not for it taking ov...\n",
       "61592    The app is good hard to navigate and wont just...\n",
       "61593    Its good but sometimes it doesnt load the musi...\n",
       "Name: Review, Length: 61594, dtype: object"
      ]
     },
     "execution_count": 7,
     "metadata": {},
     "output_type": "execute_result"
    }
   ],
   "source": [
    "# Removing punctuation of all rows\n",
    "reviews_punct_removed = df['Review'].apply(lambda x: x.translate(str.maketrans('', '', string.punctuation)))\n",
    "reviews_punct_removed"
   ]
  },
  {
   "cell_type": "code",
   "execution_count": 8,
   "metadata": {},
   "outputs": [
    {
     "data": {
      "text/plain": [
       "'Great music service the audio is high quality and the app is easy to use Also very quick and friendly support'"
      ]
     },
     "execution_count": 8,
     "metadata": {},
     "output_type": "execute_result"
    }
   ],
   "source": [
    "reviews_punct_removed[0]"
   ]
  },
  {
   "attachments": {},
   "cell_type": "markdown",
   "metadata": {},
   "source": [
    "# Lower Casing"
   ]
  },
  {
   "cell_type": "code",
   "execution_count": 9,
   "metadata": {},
   "outputs": [
    {
     "data": {
      "text/plain": [
       "0        great music service, the audio is high quality...\n",
       "1        please ignore previous negative rating. this a...\n",
       "2        this pop-up \"get the best spotify experience o...\n",
       "3          really buggy and terrible to use as of recently\n",
       "4        dear spotify why do i get songs that i didn't ...\n",
       "                               ...                        \n",
       "61589    even though it was communicated that lyrics fe...\n",
       "61590    use to be sooo good back when i had it, and wh...\n",
       "61591    this app would be good if not for it taking ov...\n",
       "61592    the app is good hard to navigate and won't jus...\n",
       "61593    its good but sometimes it doesnt load the musi...\n",
       "Name: Review, Length: 61594, dtype: object"
      ]
     },
     "execution_count": 9,
     "metadata": {},
     "output_type": "execute_result"
    }
   ],
   "source": [
    "# Lower Casing all rows\n",
    "reviews_lower = df['Review'].str.lower()\n",
    "reviews_lower"
   ]
  },
  {
   "cell_type": "code",
   "execution_count": 10,
   "metadata": {},
   "outputs": [
    {
     "data": {
      "text/plain": [
       "0        Great music service, the audio is high quality...\n",
       "1        Please ignore previous negative rating. This a...\n",
       "2        This pop-up \"Get the best Spotify experience o...\n",
       "3          Really buggy and terrible to use as of recently\n",
       "4        Dear Spotify why do I get songs that I didn't ...\n",
       "                               ...                        \n",
       "61589    Even though it was communicated that lyrics fe...\n",
       "61590    Use to be sooo good back when I had it, and wh...\n",
       "61591    This app would be good if not for it taking ov...\n",
       "61592    The app is good hard to navigate and won't jus...\n",
       "61593    Its good but sometimes it doesnt load the musi...\n",
       "Name: Review, Length: 61594, dtype: object"
      ]
     },
     "execution_count": 10,
     "metadata": {},
     "output_type": "execute_result"
    }
   ],
   "source": [
    "# printing Reviews to compare\n",
    "df['Review']"
   ]
  },
  {
   "attachments": {},
   "cell_type": "markdown",
   "metadata": {},
   "source": [
    "# Removing Stopwords"
   ]
  },
  {
   "cell_type": "code",
   "execution_count": 11,
   "metadata": {},
   "outputs": [
    {
     "data": {
      "text/plain": [
       "0        Great music service, audio high quality app ea...\n",
       "1        Please ignore previous negative rating. This a...\n",
       "2        This pop-up \"Get best Spotify experience Andro...\n",
       "3                       Really buggy terrible use recently\n",
       "4        Dear Spotify I get songs I put playlist??? And...\n",
       "                               ...                        \n",
       "61589    Even though communicated lyrics feature availa...\n",
       "61590    Use sooo good back I it, I downloaded (free ve...\n",
       "61591    This app would good taking device on. I start ...\n",
       "61592    The app good hard navigate let play song click...\n",
       "61593    Its good sometimes doesnt load music plays lik...\n",
       "Name: Review, Length: 61594, dtype: object"
      ]
     },
     "execution_count": 11,
     "metadata": {},
     "output_type": "execute_result"
    }
   ],
   "source": [
    "# Importing\n",
    "from nltk.corpus import stopwords\n",
    "\n",
    "# Getting list of english stopwords\n",
    "ENG_STOPWORDS = stopwords.words('english')\n",
    "\n",
    "# Removing stopwords from all rows\n",
    "review_wo_stopwords = df['Review'].apply(lambda review: ' '.join([word for word in review.split() if word not in ENG_STOPWORDS]))\n",
    "review_wo_stopwords"
   ]
  },
  {
   "cell_type": "code",
   "execution_count": 12,
   "metadata": {},
   "outputs": [
    {
     "data": {
      "text/plain": [
       "('Great music service, the audio is high quality and the app is easy to use. Also very quick and friendly support.',\n",
       " 'Great music service, audio high quality app easy use. Also quick friendly support.')"
      ]
     },
     "execution_count": 12,
     "metadata": {},
     "output_type": "execute_result"
    }
   ],
   "source": [
    "# Comparing sentence with and without stepwords\n",
    "df['Review'][0], review_wo_stopwords[0]"
   ]
  },
  {
   "attachments": {},
   "cell_type": "markdown",
   "metadata": {},
   "source": [
    "# Stemming"
   ]
  },
  {
   "cell_type": "code",
   "execution_count": 13,
   "metadata": {},
   "outputs": [
    {
     "data": {
      "text/plain": [
       "['studi', 'studi', 'studi', 'studi']"
      ]
     },
     "execution_count": 13,
     "metadata": {},
     "output_type": "execute_result"
    }
   ],
   "source": [
    "# Importing\n",
    "from nltk.stem.porter import PorterStemmer\n",
    "\n",
    "# Stemmer object\n",
    "stemmer = PorterStemmer()\n",
    "\n",
    "# List of words to be stemmed\n",
    "list_words = ['study', 'studied', 'studying', 'studies']\n",
    "\n",
    "# Result of words stemmed\n",
    "[stemmer.stem(word) for word in list_words]"
   ]
  },
  {
   "cell_type": "code",
   "execution_count": 14,
   "metadata": {},
   "outputs": [
    {
     "data": {
      "text/plain": [
       "0        great music service, the audio is high qualiti...\n",
       "1        pleas ignor previou neg rating. thi app is sup...\n",
       "2        thi pop-up \"get the best spotifi experi on and...\n",
       "3             realli buggi and terribl to use as of recent\n",
       "4        dear spotifi whi do i get song that i didn't p...\n",
       "                               ...                        \n",
       "61589    even though it wa commun that lyric featur is ...\n",
       "61590    use to be sooo good back when i had it, and wh...\n",
       "61591    thi app would be good if not for it take over ...\n",
       "61592    the app is good hard to navig and won't just l...\n",
       "61593    it good but sometim it doesnt load the music o...\n",
       "Name: Review, Length: 61594, dtype: object"
      ]
     },
     "execution_count": 14,
     "metadata": {},
     "output_type": "execute_result"
    }
   ],
   "source": [
    "# Stemming all rows\n",
    "review_stemmed = df['Review'].apply(lambda x: ' '.join(stemmer.stem(word) for word in x.split()))\n",
    "review_stemmed"
   ]
  },
  {
   "attachments": {},
   "cell_type": "markdown",
   "metadata": {},
   "source": [
    "# Lemmatization"
   ]
  },
  {
   "cell_type": "code",
   "execution_count": 15,
   "metadata": {},
   "outputs": [
    {
     "data": {
      "text/plain": [
       "['study', 'studied', 'studying', 'study']"
      ]
     },
     "execution_count": 15,
     "metadata": {},
     "output_type": "execute_result"
    }
   ],
   "source": [
    "# Importing\n",
    "from nltk.stem import WordNetLemmatizer\n",
    "\n",
    "# Lemmatizer object\n",
    "lemmatizer = WordNetLemmatizer()\n",
    "\n",
    "# List of words to be stemmed\n",
    "list_words = ['study', 'studied', 'studying', 'studies']\n",
    "\n",
    "# Result of words lemmatized\n",
    "[lemmatizer.lemmatize(word) for word in list_words]"
   ]
  },
  {
   "cell_type": "code",
   "execution_count": 16,
   "metadata": {},
   "outputs": [
    {
     "data": {
      "text/plain": [
       "0        Great music service, the audio is high quality...\n",
       "1        Please ignore previous negative rating. This a...\n",
       "2        This pop-up \"Get the best Spotify experience o...\n",
       "3           Really buggy and terrible to use a of recently\n",
       "4        Dear Spotify why do I get song that I didn't p...\n",
       "                               ...                        \n",
       "61589    Even though it wa communicated that lyric feat...\n",
       "61590    Use to be sooo good back when I had it, and wh...\n",
       "61591    This app would be good if not for it taking ov...\n",
       "61592    The app is good hard to navigate and won't jus...\n",
       "61593    Its good but sometimes it doesnt load the musi...\n",
       "Name: Review, Length: 61594, dtype: object"
      ]
     },
     "execution_count": 16,
     "metadata": {},
     "output_type": "execute_result"
    }
   ],
   "source": [
    "# Lemmatization on all rows\n",
    "review_lemmed = df['Review'].apply(lambda x: ' '.join(lemmatizer.lemmatize(word) for word in x.split()))\n",
    "review_lemmed"
   ]
  },
  {
   "cell_type": "code",
   "execution_count": 17,
   "metadata": {},
   "outputs": [
    {
     "data": {
      "text/plain": [
       "'Great music service, the audio is high quality and the app is easy to use. Also very quick and friendly support.'"
      ]
     },
     "execution_count": 17,
     "metadata": {},
     "output_type": "execute_result"
    }
   ],
   "source": [
    "df['Review'][0]"
   ]
  },
  {
   "attachments": {},
   "cell_type": "markdown",
   "metadata": {},
   "source": [
    "# Full Code Example"
   ]
  },
  {
   "cell_type": "code",
   "execution_count": 18,
   "metadata": {},
   "outputs": [],
   "source": [
    "# Importing \n",
    "import pandas as pd\n",
    "from nltk.tokenize import word_tokenize\n",
    "import string\n",
    "from nltk.corpus import stopwords\n",
    "from nltk.stem.porter import PorterStemmer\n",
    "from nltk.stem import WordNetLemmatizer\n",
    "\n",
    "# Loading Dataset\n",
    "df = pd.read_csv(r'C:\\Users\\AlvaroMatsuda\\OneDrive - DHAUZ\\Área de Trabalho\\Kazu_Files\\Curso_FIA\\Deep_Learning\\Projeto_aula_deep_learning\\base_dados\\reviews.csv')\n",
    "\n",
    "# Removing punctuation of all rows\n",
    "df['review_pp'] = df['Review'].apply(lambda x: x.translate(str.maketrans('', '', string.punctuation)))\n",
    "\n",
    "# Lower Casing all rows\n",
    "df['review_pp'] = df['review_pp'].str.lower()\n",
    "\n",
    "# Getting list of english stopwords\n",
    "ENG_STOPWORDS = stopwords.words('english')\n",
    "\n",
    "# Removing stopwords from all rows\n",
    "df['review_pp'] = df['review_pp'].apply(lambda review: ' '.join([word for word in review.split() if word not in ENG_STOPWORDS]))\n",
    "\n",
    "# Stemmer object\n",
    "stemmer = PorterStemmer()\n",
    "\n",
    "# Stemming all rows\n",
    "df['review_pp_stem'] = df['review_pp'].apply(lambda x: ' '.join(stemmer.stem(word) for word in x.split()))\n",
    "\n",
    "# Lemmatizer object\n",
    "lemmatizer = WordNetLemmatizer()\n",
    "\n",
    "# Lemmatization on all rows\n",
    "df['review_pp_lem'] = df['review_pp'].apply(lambda x: ' '.join(lemmatizer.lemmatize(word) for word in x.split()))\n",
    "\n",
    "# Tokenizing reviews\n",
    "tokens_lem = df['review_pp_lem'].apply(word_tokenize)\n",
    "tokens_stem = df['review_pp_stem'].apply(word_tokenize)\n"
   ]
  },
  {
   "attachments": {},
   "cell_type": "markdown",
   "metadata": {},
   "source": [
    "# Part 2"
   ]
  },
  {
   "attachments": {},
   "cell_type": "markdown",
   "metadata": {},
   "source": [
    "# Bag Of Words"
   ]
  },
  {
   "cell_type": "code",
   "execution_count": 19,
   "metadata": {},
   "outputs": [],
   "source": [
    "# Importing CountVectorizer from Sklearn\n",
    "from sklearn.feature_extraction.text import CountVectorizer\n",
    "\n",
    "# Getting only the reviews preprocessed with lemmatization\n",
    "corpus_lem = df['review_pp_lem']\n",
    "\n",
    "# Instantiate CountVectorizer object\n",
    "vectorizer = CountVectorizer()\n",
    "\n",
    "# Generate Bag of Words\n",
    "bow = vectorizer.fit_transform(corpus_lem)"
   ]
  },
  {
   "cell_type": "code",
   "execution_count": 20,
   "metadata": {},
   "outputs": [
    {
     "data": {
      "text/plain": [
       "((61594, 28034), (61594,))"
      ]
     },
     "execution_count": 20,
     "metadata": {},
     "output_type": "execute_result"
    }
   ],
   "source": [
    "# Shape of the sparse matrix generated\n",
    "bow.shape, corpus_lem.shape"
   ]
  },
  {
   "cell_type": "code",
   "execution_count": 21,
   "metadata": {},
   "outputs": [
    {
     "data": {
      "text/html": [
       "<div>\n",
       "<style scoped>\n",
       "    .dataframe tbody tr th:only-of-type {\n",
       "        vertical-align: middle;\n",
       "    }\n",
       "\n",
       "    .dataframe tbody tr th {\n",
       "        vertical-align: top;\n",
       "    }\n",
       "\n",
       "    .dataframe thead th {\n",
       "        text-align: right;\n",
       "    }\n",
       "</style>\n",
       "<table border=\"1\" class=\"dataframe\">\n",
       "  <thead>\n",
       "    <tr style=\"text-align: right;\">\n",
       "      <th></th>\n",
       "      <th>00</th>\n",
       "      <th>000</th>\n",
       "      <th>0000</th>\n",
       "      <th>0000000001</th>\n",
       "      <th>0001</th>\n",
       "      <th>0003</th>\n",
       "      <th>000348</th>\n",
       "      <th>0005</th>\n",
       "      <th>0009</th>\n",
       "      <th>001</th>\n",
       "      <th>...</th>\n",
       "      <th>𝚎𝚟𝚎𝚛</th>\n",
       "      <th>𝚑𝚊𝚟𝚎</th>\n",
       "      <th>𝚒𝚜</th>\n",
       "      <th>𝚕𝚘𝚟𝚎𝚍</th>\n",
       "      <th>𝚖𝚘𝚜𝚝</th>\n",
       "      <th>𝚖𝚞𝚜𝚒𝚌</th>\n",
       "      <th>𝚝𝚑𝚎</th>\n",
       "      <th>𝚝𝚑𝚒𝚗𝚔</th>\n",
       "      <th>𝚝𝚑𝚒𝚜</th>\n",
       "      <th>𝟐𝐱</th>\n",
       "    </tr>\n",
       "  </thead>\n",
       "  <tbody>\n",
       "    <tr>\n",
       "      <th>0</th>\n",
       "      <td>0</td>\n",
       "      <td>0</td>\n",
       "      <td>0</td>\n",
       "      <td>0</td>\n",
       "      <td>0</td>\n",
       "      <td>0</td>\n",
       "      <td>0</td>\n",
       "      <td>0</td>\n",
       "      <td>0</td>\n",
       "      <td>0</td>\n",
       "      <td>...</td>\n",
       "      <td>0</td>\n",
       "      <td>0</td>\n",
       "      <td>0</td>\n",
       "      <td>0</td>\n",
       "      <td>0</td>\n",
       "      <td>0</td>\n",
       "      <td>0</td>\n",
       "      <td>0</td>\n",
       "      <td>0</td>\n",
       "      <td>0</td>\n",
       "    </tr>\n",
       "    <tr>\n",
       "      <th>1</th>\n",
       "      <td>0</td>\n",
       "      <td>0</td>\n",
       "      <td>0</td>\n",
       "      <td>0</td>\n",
       "      <td>0</td>\n",
       "      <td>0</td>\n",
       "      <td>0</td>\n",
       "      <td>0</td>\n",
       "      <td>0</td>\n",
       "      <td>0</td>\n",
       "      <td>...</td>\n",
       "      <td>0</td>\n",
       "      <td>0</td>\n",
       "      <td>0</td>\n",
       "      <td>0</td>\n",
       "      <td>0</td>\n",
       "      <td>0</td>\n",
       "      <td>0</td>\n",
       "      <td>0</td>\n",
       "      <td>0</td>\n",
       "      <td>0</td>\n",
       "    </tr>\n",
       "  </tbody>\n",
       "</table>\n",
       "<p>2 rows × 28034 columns</p>\n",
       "</div>"
      ],
      "text/plain": [
       "   00  000  0000  0000000001  0001  0003  000348  0005  0009  001  ...  𝚎𝚟𝚎𝚛  \\\n",
       "0   0    0     0           0     0     0       0     0     0    0  ...     0   \n",
       "1   0    0     0           0     0     0       0     0     0    0  ...     0   \n",
       "\n",
       "   𝚑𝚊𝚟𝚎  𝚒𝚜  𝚕𝚘𝚟𝚎𝚍  𝚖𝚘𝚜𝚝  𝚖𝚞𝚜𝚒𝚌  𝚝𝚑𝚎  𝚝𝚑𝚒𝚗𝚔  𝚝𝚑𝚒𝚜  𝟐𝐱  \n",
       "0     0   0      0     0      0    0      0     0   0  \n",
       "1     0   0      0     0      0    0      0     0   0  \n",
       "\n",
       "[2 rows x 28034 columns]"
      ]
     },
     "execution_count": 21,
     "metadata": {},
     "output_type": "execute_result"
    }
   ],
   "source": [
    "# Getting the first two reviews decoded by the bag of words\n",
    "example_bow = pd.DataFrame(bow[0:2].toarray(), columns=vectorizer.get_feature_names_out())\n",
    "\n",
    "example_bow[0:2]"
   ]
  },
  {
   "cell_type": "code",
   "execution_count": 22,
   "metadata": {},
   "outputs": [
    {
     "data": {
      "text/html": [
       "<div>\n",
       "<style scoped>\n",
       "    .dataframe tbody tr th:only-of-type {\n",
       "        vertical-align: middle;\n",
       "    }\n",
       "\n",
       "    .dataframe tbody tr th {\n",
       "        vertical-align: top;\n",
       "    }\n",
       "\n",
       "    .dataframe thead th {\n",
       "        text-align: right;\n",
       "    }\n",
       "</style>\n",
       "<table border=\"1\" class=\"dataframe\">\n",
       "  <thead>\n",
       "    <tr style=\"text-align: right;\">\n",
       "      <th></th>\n",
       "      <th>also</th>\n",
       "      <th>app</th>\n",
       "      <th>audio</th>\n",
       "      <th>easy</th>\n",
       "      <th>five</th>\n",
       "      <th>friendly</th>\n",
       "      <th>give</th>\n",
       "      <th>great</th>\n",
       "      <th>high</th>\n",
       "      <th>ignore</th>\n",
       "      <th>...</th>\n",
       "      <th>please</th>\n",
       "      <th>previous</th>\n",
       "      <th>quality</th>\n",
       "      <th>quick</th>\n",
       "      <th>rating</th>\n",
       "      <th>service</th>\n",
       "      <th>star</th>\n",
       "      <th>super</th>\n",
       "      <th>support</th>\n",
       "      <th>use</th>\n",
       "    </tr>\n",
       "  </thead>\n",
       "  <tbody>\n",
       "    <tr>\n",
       "      <th>0</th>\n",
       "      <td>1</td>\n",
       "      <td>1</td>\n",
       "      <td>1</td>\n",
       "      <td>1</td>\n",
       "      <td>0</td>\n",
       "      <td>1</td>\n",
       "      <td>0</td>\n",
       "      <td>1</td>\n",
       "      <td>1</td>\n",
       "      <td>0</td>\n",
       "      <td>...</td>\n",
       "      <td>0</td>\n",
       "      <td>0</td>\n",
       "      <td>1</td>\n",
       "      <td>1</td>\n",
       "      <td>0</td>\n",
       "      <td>1</td>\n",
       "      <td>0</td>\n",
       "      <td>0</td>\n",
       "      <td>1</td>\n",
       "      <td>1</td>\n",
       "    </tr>\n",
       "    <tr>\n",
       "      <th>1</th>\n",
       "      <td>0</td>\n",
       "      <td>1</td>\n",
       "      <td>0</td>\n",
       "      <td>0</td>\n",
       "      <td>1</td>\n",
       "      <td>0</td>\n",
       "      <td>1</td>\n",
       "      <td>1</td>\n",
       "      <td>0</td>\n",
       "      <td>1</td>\n",
       "      <td>...</td>\n",
       "      <td>1</td>\n",
       "      <td>1</td>\n",
       "      <td>0</td>\n",
       "      <td>0</td>\n",
       "      <td>1</td>\n",
       "      <td>0</td>\n",
       "      <td>1</td>\n",
       "      <td>1</td>\n",
       "      <td>0</td>\n",
       "      <td>0</td>\n",
       "    </tr>\n",
       "  </tbody>\n",
       "</table>\n",
       "<p>2 rows × 22 columns</p>\n",
       "</div>"
      ],
      "text/plain": [
       "   also  app  audio  easy  five  friendly  give  great  high  ignore  ...  \\\n",
       "0     1    1      1     1     0         1     0      1     1       0  ...   \n",
       "1     0    1      0     0     1         0     1      1     0       1  ...   \n",
       "\n",
       "   please  previous  quality  quick  rating  service  star  super  support  \\\n",
       "0       0         0        1      1       0        1     0      0        1   \n",
       "1       1         1        0      0       1        0     1      1        0   \n",
       "\n",
       "   use  \n",
       "0    1  \n",
       "1    0  \n",
       "\n",
       "[2 rows x 22 columns]"
      ]
     },
     "execution_count": 22,
     "metadata": {},
     "output_type": "execute_result"
    }
   ],
   "source": [
    "# Getting only columns where there are words present in those reviews\n",
    "list_columns = [label for label, content in example_bow.items() if any(content == 1)]\n",
    "\n",
    "# Printing the results\n",
    "example_bow[list_columns]"
   ]
  },
  {
   "cell_type": "code",
   "execution_count": 23,
   "metadata": {},
   "outputs": [
    {
     "data": {
      "text/plain": [
       "('great music service audio high quality app easy use also quick friendly support',\n",
       " 'please ignore previous negative rating app super great give five star')"
      ]
     },
     "execution_count": 23,
     "metadata": {},
     "output_type": "execute_result"
    }
   ],
   "source": [
    "# Text of the first two reviews\n",
    "corpus_lem[0], corpus_lem[1]"
   ]
  },
  {
   "attachments": {},
   "cell_type": "markdown",
   "metadata": {},
   "source": [
    "# TF-IDF"
   ]
  },
  {
   "cell_type": "code",
   "execution_count": 24,
   "metadata": {},
   "outputs": [],
   "source": [
    "# Importing TfidfVectorizer from Sklearn\n",
    "from sklearn.feature_extraction.text import TfidfVectorizer\n",
    "\n",
    "# Instantiating TfidfVectorizer object\n",
    "tfidfvec = TfidfVectorizer()\n",
    "\n",
    "# Generating TF-IDF\n",
    "tfidf = tfidfvec.fit_transform(corpus_lem[:100])"
   ]
  },
  {
   "cell_type": "code",
   "execution_count": 25,
   "metadata": {},
   "outputs": [
    {
     "data": {
      "text/html": [
       "<div>\n",
       "<style scoped>\n",
       "    .dataframe tbody tr th:only-of-type {\n",
       "        vertical-align: middle;\n",
       "    }\n",
       "\n",
       "    .dataframe tbody tr th {\n",
       "        vertical-align: top;\n",
       "    }\n",
       "\n",
       "    .dataframe thead th {\n",
       "        text-align: right;\n",
       "    }\n",
       "</style>\n",
       "<table border=\"1\" class=\"dataframe\">\n",
       "  <thead>\n",
       "    <tr style=\"text-align: right;\">\n",
       "      <th></th>\n",
       "      <th>10</th>\n",
       "      <th>100</th>\n",
       "      <th>12</th>\n",
       "      <th>34ths</th>\n",
       "      <th>990</th>\n",
       "      <th>ability</th>\n",
       "      <th>able</th>\n",
       "      <th>acc</th>\n",
       "      <th>acceptable</th>\n",
       "      <th>access</th>\n",
       "      <th>...</th>\n",
       "      <th>write</th>\n",
       "      <th>xbox</th>\n",
       "      <th>yeah</th>\n",
       "      <th>year</th>\n",
       "      <th>yes</th>\n",
       "      <th>yo</th>\n",
       "      <th>youre</th>\n",
       "      <th>youth</th>\n",
       "      <th>youtube</th>\n",
       "      <th>youve</th>\n",
       "    </tr>\n",
       "  </thead>\n",
       "  <tbody>\n",
       "    <tr>\n",
       "      <th>0</th>\n",
       "      <td>0.0</td>\n",
       "      <td>0.0</td>\n",
       "      <td>0.000000</td>\n",
       "      <td>0.0</td>\n",
       "      <td>0.0</td>\n",
       "      <td>0.0</td>\n",
       "      <td>0.0</td>\n",
       "      <td>0.0</td>\n",
       "      <td>0.0</td>\n",
       "      <td>0.0</td>\n",
       "      <td>...</td>\n",
       "      <td>0.000000</td>\n",
       "      <td>0.0</td>\n",
       "      <td>0.0</td>\n",
       "      <td>0.0</td>\n",
       "      <td>0.0</td>\n",
       "      <td>0.0</td>\n",
       "      <td>0.000000</td>\n",
       "      <td>0.0</td>\n",
       "      <td>0.0</td>\n",
       "      <td>0.000000</td>\n",
       "    </tr>\n",
       "    <tr>\n",
       "      <th>1</th>\n",
       "      <td>0.0</td>\n",
       "      <td>0.0</td>\n",
       "      <td>0.000000</td>\n",
       "      <td>0.0</td>\n",
       "      <td>0.0</td>\n",
       "      <td>0.0</td>\n",
       "      <td>0.0</td>\n",
       "      <td>0.0</td>\n",
       "      <td>0.0</td>\n",
       "      <td>0.0</td>\n",
       "      <td>...</td>\n",
       "      <td>0.000000</td>\n",
       "      <td>0.0</td>\n",
       "      <td>0.0</td>\n",
       "      <td>0.0</td>\n",
       "      <td>0.0</td>\n",
       "      <td>0.0</td>\n",
       "      <td>0.000000</td>\n",
       "      <td>0.0</td>\n",
       "      <td>0.0</td>\n",
       "      <td>0.000000</td>\n",
       "    </tr>\n",
       "    <tr>\n",
       "      <th>2</th>\n",
       "      <td>0.0</td>\n",
       "      <td>0.0</td>\n",
       "      <td>0.339939</td>\n",
       "      <td>0.0</td>\n",
       "      <td>0.0</td>\n",
       "      <td>0.0</td>\n",
       "      <td>0.0</td>\n",
       "      <td>0.0</td>\n",
       "      <td>0.0</td>\n",
       "      <td>0.0</td>\n",
       "      <td>...</td>\n",
       "      <td>0.000000</td>\n",
       "      <td>0.0</td>\n",
       "      <td>0.0</td>\n",
       "      <td>0.0</td>\n",
       "      <td>0.0</td>\n",
       "      <td>0.0</td>\n",
       "      <td>0.000000</td>\n",
       "      <td>0.0</td>\n",
       "      <td>0.0</td>\n",
       "      <td>0.000000</td>\n",
       "    </tr>\n",
       "    <tr>\n",
       "      <th>3</th>\n",
       "      <td>0.0</td>\n",
       "      <td>0.0</td>\n",
       "      <td>0.000000</td>\n",
       "      <td>0.0</td>\n",
       "      <td>0.0</td>\n",
       "      <td>0.0</td>\n",
       "      <td>0.0</td>\n",
       "      <td>0.0</td>\n",
       "      <td>0.0</td>\n",
       "      <td>0.0</td>\n",
       "      <td>...</td>\n",
       "      <td>0.000000</td>\n",
       "      <td>0.0</td>\n",
       "      <td>0.0</td>\n",
       "      <td>0.0</td>\n",
       "      <td>0.0</td>\n",
       "      <td>0.0</td>\n",
       "      <td>0.000000</td>\n",
       "      <td>0.0</td>\n",
       "      <td>0.0</td>\n",
       "      <td>0.000000</td>\n",
       "    </tr>\n",
       "    <tr>\n",
       "      <th>4</th>\n",
       "      <td>0.0</td>\n",
       "      <td>0.0</td>\n",
       "      <td>0.000000</td>\n",
       "      <td>0.0</td>\n",
       "      <td>0.0</td>\n",
       "      <td>0.0</td>\n",
       "      <td>0.0</td>\n",
       "      <td>0.0</td>\n",
       "      <td>0.0</td>\n",
       "      <td>0.0</td>\n",
       "      <td>...</td>\n",
       "      <td>0.000000</td>\n",
       "      <td>0.0</td>\n",
       "      <td>0.0</td>\n",
       "      <td>0.0</td>\n",
       "      <td>0.0</td>\n",
       "      <td>0.0</td>\n",
       "      <td>0.000000</td>\n",
       "      <td>0.0</td>\n",
       "      <td>0.0</td>\n",
       "      <td>0.000000</td>\n",
       "    </tr>\n",
       "    <tr>\n",
       "      <th>5</th>\n",
       "      <td>0.0</td>\n",
       "      <td>0.0</td>\n",
       "      <td>0.000000</td>\n",
       "      <td>0.0</td>\n",
       "      <td>0.0</td>\n",
       "      <td>0.0</td>\n",
       "      <td>0.0</td>\n",
       "      <td>0.0</td>\n",
       "      <td>0.0</td>\n",
       "      <td>0.0</td>\n",
       "      <td>...</td>\n",
       "      <td>0.000000</td>\n",
       "      <td>0.0</td>\n",
       "      <td>0.0</td>\n",
       "      <td>0.0</td>\n",
       "      <td>0.0</td>\n",
       "      <td>0.0</td>\n",
       "      <td>0.000000</td>\n",
       "      <td>0.0</td>\n",
       "      <td>0.0</td>\n",
       "      <td>0.000000</td>\n",
       "    </tr>\n",
       "    <tr>\n",
       "      <th>6</th>\n",
       "      <td>0.0</td>\n",
       "      <td>0.0</td>\n",
       "      <td>0.000000</td>\n",
       "      <td>0.0</td>\n",
       "      <td>0.0</td>\n",
       "      <td>0.0</td>\n",
       "      <td>0.0</td>\n",
       "      <td>0.0</td>\n",
       "      <td>0.0</td>\n",
       "      <td>0.0</td>\n",
       "      <td>...</td>\n",
       "      <td>0.000000</td>\n",
       "      <td>0.0</td>\n",
       "      <td>0.0</td>\n",
       "      <td>0.0</td>\n",
       "      <td>0.0</td>\n",
       "      <td>0.0</td>\n",
       "      <td>0.437184</td>\n",
       "      <td>0.0</td>\n",
       "      <td>0.0</td>\n",
       "      <td>0.000000</td>\n",
       "    </tr>\n",
       "    <tr>\n",
       "      <th>7</th>\n",
       "      <td>0.0</td>\n",
       "      <td>0.0</td>\n",
       "      <td>0.000000</td>\n",
       "      <td>0.0</td>\n",
       "      <td>0.0</td>\n",
       "      <td>0.0</td>\n",
       "      <td>0.0</td>\n",
       "      <td>0.0</td>\n",
       "      <td>0.0</td>\n",
       "      <td>0.0</td>\n",
       "      <td>...</td>\n",
       "      <td>0.168682</td>\n",
       "      <td>0.0</td>\n",
       "      <td>0.0</td>\n",
       "      <td>0.0</td>\n",
       "      <td>0.0</td>\n",
       "      <td>0.0</td>\n",
       "      <td>0.000000</td>\n",
       "      <td>0.0</td>\n",
       "      <td>0.0</td>\n",
       "      <td>0.000000</td>\n",
       "    </tr>\n",
       "    <tr>\n",
       "      <th>8</th>\n",
       "      <td>0.0</td>\n",
       "      <td>0.0</td>\n",
       "      <td>0.000000</td>\n",
       "      <td>0.0</td>\n",
       "      <td>0.0</td>\n",
       "      <td>0.0</td>\n",
       "      <td>0.0</td>\n",
       "      <td>0.0</td>\n",
       "      <td>0.0</td>\n",
       "      <td>0.0</td>\n",
       "      <td>...</td>\n",
       "      <td>0.000000</td>\n",
       "      <td>0.0</td>\n",
       "      <td>0.0</td>\n",
       "      <td>0.0</td>\n",
       "      <td>0.0</td>\n",
       "      <td>0.0</td>\n",
       "      <td>0.000000</td>\n",
       "      <td>0.0</td>\n",
       "      <td>0.0</td>\n",
       "      <td>0.000000</td>\n",
       "    </tr>\n",
       "    <tr>\n",
       "      <th>9</th>\n",
       "      <td>0.0</td>\n",
       "      <td>0.0</td>\n",
       "      <td>0.000000</td>\n",
       "      <td>0.0</td>\n",
       "      <td>0.0</td>\n",
       "      <td>0.0</td>\n",
       "      <td>0.0</td>\n",
       "      <td>0.0</td>\n",
       "      <td>0.0</td>\n",
       "      <td>0.0</td>\n",
       "      <td>...</td>\n",
       "      <td>0.000000</td>\n",
       "      <td>0.0</td>\n",
       "      <td>0.0</td>\n",
       "      <td>0.0</td>\n",
       "      <td>0.0</td>\n",
       "      <td>0.0</td>\n",
       "      <td>0.000000</td>\n",
       "      <td>0.0</td>\n",
       "      <td>0.0</td>\n",
       "      <td>0.175124</td>\n",
       "    </tr>\n",
       "  </tbody>\n",
       "</table>\n",
       "<p>10 rows × 594 columns</p>\n",
       "</div>"
      ],
      "text/plain": [
       "    10  100        12  34ths  990  ability  able  acc  acceptable  access  \\\n",
       "0  0.0  0.0  0.000000    0.0  0.0      0.0   0.0  0.0         0.0     0.0   \n",
       "1  0.0  0.0  0.000000    0.0  0.0      0.0   0.0  0.0         0.0     0.0   \n",
       "2  0.0  0.0  0.339939    0.0  0.0      0.0   0.0  0.0         0.0     0.0   \n",
       "3  0.0  0.0  0.000000    0.0  0.0      0.0   0.0  0.0         0.0     0.0   \n",
       "4  0.0  0.0  0.000000    0.0  0.0      0.0   0.0  0.0         0.0     0.0   \n",
       "5  0.0  0.0  0.000000    0.0  0.0      0.0   0.0  0.0         0.0     0.0   \n",
       "6  0.0  0.0  0.000000    0.0  0.0      0.0   0.0  0.0         0.0     0.0   \n",
       "7  0.0  0.0  0.000000    0.0  0.0      0.0   0.0  0.0         0.0     0.0   \n",
       "8  0.0  0.0  0.000000    0.0  0.0      0.0   0.0  0.0         0.0     0.0   \n",
       "9  0.0  0.0  0.000000    0.0  0.0      0.0   0.0  0.0         0.0     0.0   \n",
       "\n",
       "   ...     write  xbox  yeah  year  yes   yo     youre  youth  youtube  \\\n",
       "0  ...  0.000000   0.0   0.0   0.0  0.0  0.0  0.000000    0.0      0.0   \n",
       "1  ...  0.000000   0.0   0.0   0.0  0.0  0.0  0.000000    0.0      0.0   \n",
       "2  ...  0.000000   0.0   0.0   0.0  0.0  0.0  0.000000    0.0      0.0   \n",
       "3  ...  0.000000   0.0   0.0   0.0  0.0  0.0  0.000000    0.0      0.0   \n",
       "4  ...  0.000000   0.0   0.0   0.0  0.0  0.0  0.000000    0.0      0.0   \n",
       "5  ...  0.000000   0.0   0.0   0.0  0.0  0.0  0.000000    0.0      0.0   \n",
       "6  ...  0.000000   0.0   0.0   0.0  0.0  0.0  0.437184    0.0      0.0   \n",
       "7  ...  0.168682   0.0   0.0   0.0  0.0  0.0  0.000000    0.0      0.0   \n",
       "8  ...  0.000000   0.0   0.0   0.0  0.0  0.0  0.000000    0.0      0.0   \n",
       "9  ...  0.000000   0.0   0.0   0.0  0.0  0.0  0.000000    0.0      0.0   \n",
       "\n",
       "      youve  \n",
       "0  0.000000  \n",
       "1  0.000000  \n",
       "2  0.000000  \n",
       "3  0.000000  \n",
       "4  0.000000  \n",
       "5  0.000000  \n",
       "6  0.000000  \n",
       "7  0.000000  \n",
       "8  0.000000  \n",
       "9  0.175124  \n",
       "\n",
       "[10 rows x 594 columns]"
      ]
     },
     "execution_count": 25,
     "metadata": {},
     "output_type": "execute_result"
    }
   ],
   "source": [
    "# Getting the first ten reviews decoded by the TF-IDF\n",
    "example_tfidf = pd.DataFrame(tfidf[0:10].toarray(), columns=tfidfvec.get_feature_names_out())\n",
    "\n",
    "example_tfidf"
   ]
  },
  {
   "cell_type": "code",
   "execution_count": 26,
   "metadata": {},
   "outputs": [
    {
     "data": {
      "text/html": [
       "<div>\n",
       "<style scoped>\n",
       "    .dataframe tbody tr th:only-of-type {\n",
       "        vertical-align: middle;\n",
       "    }\n",
       "\n",
       "    .dataframe tbody tr th {\n",
       "        vertical-align: top;\n",
       "    }\n",
       "\n",
       "    .dataframe thead th {\n",
       "        text-align: right;\n",
       "    }\n",
       "</style>\n",
       "<table border=\"1\" class=\"dataframe\">\n",
       "  <thead>\n",
       "    <tr style=\"text-align: right;\">\n",
       "      <th></th>\n",
       "      <th>12</th>\n",
       "      <th>ad</th>\n",
       "      <th>add</th>\n",
       "      <th>already</th>\n",
       "      <th>also</th>\n",
       "      <th>android</th>\n",
       "      <th>annoying</th>\n",
       "      <th>app</th>\n",
       "      <th>appear</th>\n",
       "      <th>audio</th>\n",
       "      <th>...</th>\n",
       "      <th>upon</th>\n",
       "      <th>use</th>\n",
       "      <th>used</th>\n",
       "      <th>want</th>\n",
       "      <th>way</th>\n",
       "      <th>whether</th>\n",
       "      <th>wonderful</th>\n",
       "      <th>write</th>\n",
       "      <th>youre</th>\n",
       "      <th>youve</th>\n",
       "    </tr>\n",
       "  </thead>\n",
       "  <tbody>\n",
       "    <tr>\n",
       "      <th>0</th>\n",
       "      <td>0.000000</td>\n",
       "      <td>0.0</td>\n",
       "      <td>0.0</td>\n",
       "      <td>0.0</td>\n",
       "      <td>0.312021</td>\n",
       "      <td>0.000000</td>\n",
       "      <td>0.000000</td>\n",
       "      <td>0.133074</td>\n",
       "      <td>0.0</td>\n",
       "      <td>0.292147</td>\n",
       "      <td>...</td>\n",
       "      <td>0.0</td>\n",
       "      <td>0.228845</td>\n",
       "      <td>0.0</td>\n",
       "      <td>0.0</td>\n",
       "      <td>0.0</td>\n",
       "      <td>0.0</td>\n",
       "      <td>0.0</td>\n",
       "      <td>0.0</td>\n",
       "      <td>0.0</td>\n",
       "      <td>0.0</td>\n",
       "    </tr>\n",
       "    <tr>\n",
       "      <th>1</th>\n",
       "      <td>0.000000</td>\n",
       "      <td>0.0</td>\n",
       "      <td>0.0</td>\n",
       "      <td>0.0</td>\n",
       "      <td>0.000000</td>\n",
       "      <td>0.000000</td>\n",
       "      <td>0.000000</td>\n",
       "      <td>0.137793</td>\n",
       "      <td>0.0</td>\n",
       "      <td>0.000000</td>\n",
       "      <td>...</td>\n",
       "      <td>0.0</td>\n",
       "      <td>0.000000</td>\n",
       "      <td>0.0</td>\n",
       "      <td>0.0</td>\n",
       "      <td>0.0</td>\n",
       "      <td>0.0</td>\n",
       "      <td>0.0</td>\n",
       "      <td>0.0</td>\n",
       "      <td>0.0</td>\n",
       "      <td>0.0</td>\n",
       "    </tr>\n",
       "    <tr>\n",
       "      <th>2</th>\n",
       "      <td>0.339939</td>\n",
       "      <td>0.0</td>\n",
       "      <td>0.0</td>\n",
       "      <td>0.0</td>\n",
       "      <td>0.000000</td>\n",
       "      <td>0.292066</td>\n",
       "      <td>0.292066</td>\n",
       "      <td>0.000000</td>\n",
       "      <td>0.0</td>\n",
       "      <td>0.000000</td>\n",
       "      <td>...</td>\n",
       "      <td>0.0</td>\n",
       "      <td>0.000000</td>\n",
       "      <td>0.0</td>\n",
       "      <td>0.0</td>\n",
       "      <td>0.0</td>\n",
       "      <td>0.0</td>\n",
       "      <td>0.0</td>\n",
       "      <td>0.0</td>\n",
       "      <td>0.0</td>\n",
       "      <td>0.0</td>\n",
       "    </tr>\n",
       "  </tbody>\n",
       "</table>\n",
       "<p>3 rows × 127 columns</p>\n",
       "</div>"
      ],
      "text/plain": [
       "         12   ad  add  already      also   android  annoying       app  \\\n",
       "0  0.000000  0.0  0.0      0.0  0.312021  0.000000  0.000000  0.133074   \n",
       "1  0.000000  0.0  0.0      0.0  0.000000  0.000000  0.000000  0.137793   \n",
       "2  0.339939  0.0  0.0      0.0  0.000000  0.292066  0.292066  0.000000   \n",
       "\n",
       "   appear     audio  ...  upon       use  used  want  way  whether  wonderful  \\\n",
       "0     0.0  0.292147  ...   0.0  0.228845   0.0   0.0  0.0      0.0        0.0   \n",
       "1     0.0  0.000000  ...   0.0  0.000000   0.0   0.0  0.0      0.0        0.0   \n",
       "2     0.0  0.000000  ...   0.0  0.000000   0.0   0.0  0.0      0.0        0.0   \n",
       "\n",
       "   write  youre  youve  \n",
       "0    0.0    0.0    0.0  \n",
       "1    0.0    0.0    0.0  \n",
       "2    0.0    0.0    0.0  \n",
       "\n",
       "[3 rows x 127 columns]"
      ]
     },
     "execution_count": 26,
     "metadata": {},
     "output_type": "execute_result"
    }
   ],
   "source": [
    "# Getting only columns where there are words present in those reviews\n",
    "list_columns = [label for label, content in example_tfidf.items() if any(content > 0)]\n",
    "\n",
    "# Printing the results\n",
    "example_tfidf.loc[0:2, list_columns]"
   ]
  },
  {
   "cell_type": "code",
   "execution_count": 27,
   "metadata": {},
   "outputs": [
    {
     "data": {
      "text/plain": [
       "('great music service audio high quality app easy use also quick friendly support',\n",
       " 'please ignore previous negative rating app super great give five star',\n",
       " 'popup get best spotify experience android 12 annoying please let get rid')"
      ]
     },
     "execution_count": 27,
     "metadata": {},
     "output_type": "execute_result"
    }
   ],
   "source": [
    "# Text of the first two reviews\n",
    "corpus_lem[0], corpus_lem[1], corpus_lem[2]"
   ]
  },
  {
   "attachments": {},
   "cell_type": "markdown",
   "metadata": {},
   "source": [
    "# N-grams"
   ]
  },
  {
   "cell_type": "code",
   "execution_count": 28,
   "metadata": {},
   "outputs": [],
   "source": [
    "# Importing CountVectorizer from Sklearn\n",
    "from sklearn.feature_extraction.text import CountVectorizer\n",
    "\n",
    "# Getting only the reviews preprocessed with lemmatization\n",
    "corpus_lem = df['review_pp_lem']\n",
    "\n",
    "# Instantiate CountVectorizer object\n",
    "vectorizer = CountVectorizer(ngram_range=(2, 2)) # Bigram\n",
    "\n",
    "# Generate Bag of Words\n",
    "bongram = vectorizer.fit_transform(corpus_lem)"
   ]
  },
  {
   "cell_type": "code",
   "execution_count": 29,
   "metadata": {},
   "outputs": [
    {
     "data": {
      "text/plain": [
       "((61594, 328380), (61594,))"
      ]
     },
     "execution_count": 29,
     "metadata": {},
     "output_type": "execute_result"
    }
   ],
   "source": [
    "# Shape of the sparse matrix generated\n",
    "bongram.shape, corpus_lem.shape"
   ]
  },
  {
   "cell_type": "code",
   "execution_count": 30,
   "metadata": {},
   "outputs": [
    {
     "data": {
      "text/html": [
       "<div>\n",
       "<style scoped>\n",
       "    .dataframe tbody tr th:only-of-type {\n",
       "        vertical-align: middle;\n",
       "    }\n",
       "\n",
       "    .dataframe tbody tr th {\n",
       "        vertical-align: top;\n",
       "    }\n",
       "\n",
       "    .dataframe thead th {\n",
       "        text-align: right;\n",
       "    }\n",
       "</style>\n",
       "<table border=\"1\" class=\"dataframe\">\n",
       "  <thead>\n",
       "    <tr style=\"text-align: right;\">\n",
       "      <th></th>\n",
       "      <th>00 anyway</th>\n",
       "      <th>000 audio</th>\n",
       "      <th>000 letting</th>\n",
       "      <th>000 showing</th>\n",
       "      <th>0000 eventhough</th>\n",
       "      <th>0000 please</th>\n",
       "      <th>0001 cent</th>\n",
       "      <th>0001 star</th>\n",
       "      <th>0003 0005</th>\n",
       "      <th>0003 per</th>\n",
       "      <th>...</th>\n",
       "      <th>𝚊𝚙𝚙 𝚑𝚊𝚟𝚎</th>\n",
       "      <th>𝚎𝚟𝚎𝚛 𝚕𝚘𝚟𝚎𝚍</th>\n",
       "      <th>𝚑𝚊𝚟𝚎 𝚎𝚟𝚎𝚛</th>\n",
       "      <th>𝚒𝚜 𝚝𝚑𝚎</th>\n",
       "      <th>𝚖𝚘𝚜𝚝 𝚊𝚖𝚊𝚣𝚒𝚗𝚐</th>\n",
       "      <th>𝚖𝚞𝚜𝚒𝚌 𝚊𝚙𝚙</th>\n",
       "      <th>𝚝𝚑𝚎 𝚖𝚘𝚜𝚝</th>\n",
       "      <th>𝚝𝚑𝚒𝚗𝚔 𝚝𝚑𝚒𝚜</th>\n",
       "      <th>𝚝𝚑𝚒𝚜 𝚒𝚜</th>\n",
       "      <th>𝟐𝐱 𝐄𝐱𝐭𝐫𝐚</th>\n",
       "    </tr>\n",
       "  </thead>\n",
       "  <tbody>\n",
       "    <tr>\n",
       "      <th>0</th>\n",
       "      <td>0</td>\n",
       "      <td>0</td>\n",
       "      <td>0</td>\n",
       "      <td>0</td>\n",
       "      <td>0</td>\n",
       "      <td>0</td>\n",
       "      <td>0</td>\n",
       "      <td>0</td>\n",
       "      <td>0</td>\n",
       "      <td>0</td>\n",
       "      <td>...</td>\n",
       "      <td>0</td>\n",
       "      <td>0</td>\n",
       "      <td>0</td>\n",
       "      <td>0</td>\n",
       "      <td>0</td>\n",
       "      <td>0</td>\n",
       "      <td>0</td>\n",
       "      <td>0</td>\n",
       "      <td>0</td>\n",
       "      <td>0</td>\n",
       "    </tr>\n",
       "    <tr>\n",
       "      <th>1</th>\n",
       "      <td>0</td>\n",
       "      <td>0</td>\n",
       "      <td>0</td>\n",
       "      <td>0</td>\n",
       "      <td>0</td>\n",
       "      <td>0</td>\n",
       "      <td>0</td>\n",
       "      <td>0</td>\n",
       "      <td>0</td>\n",
       "      <td>0</td>\n",
       "      <td>...</td>\n",
       "      <td>0</td>\n",
       "      <td>0</td>\n",
       "      <td>0</td>\n",
       "      <td>0</td>\n",
       "      <td>0</td>\n",
       "      <td>0</td>\n",
       "      <td>0</td>\n",
       "      <td>0</td>\n",
       "      <td>0</td>\n",
       "      <td>0</td>\n",
       "    </tr>\n",
       "  </tbody>\n",
       "</table>\n",
       "<p>2 rows × 328380 columns</p>\n",
       "</div>"
      ],
      "text/plain": [
       "   00 anyway  000 audio  000 letting  000 showing  0000 eventhough  \\\n",
       "0          0          0            0            0                0   \n",
       "1          0          0            0            0                0   \n",
       "\n",
       "   0000 please  0001 cent  0001 star  0003 0005  0003 per  ...  𝚊𝚙𝚙 𝚑𝚊𝚟𝚎  \\\n",
       "0            0          0          0          0         0  ...         0   \n",
       "1            0          0          0          0         0  ...         0   \n",
       "\n",
       "   𝚎𝚟𝚎𝚛 𝚕𝚘𝚟𝚎𝚍  𝚑𝚊𝚟𝚎 𝚎𝚟𝚎𝚛  𝚒𝚜 𝚝𝚑𝚎  𝚖𝚘𝚜𝚝 𝚊𝚖𝚊𝚣𝚒𝚗𝚐  𝚖𝚞𝚜𝚒𝚌 𝚊𝚙𝚙  𝚝𝚑𝚎 𝚖𝚘𝚜𝚝  \\\n",
       "0           0          0       0             0          0         0   \n",
       "1           0          0       0             0          0         0   \n",
       "\n",
       "   𝚝𝚑𝚒𝚗𝚔 𝚝𝚑𝚒𝚜  𝚝𝚑𝚒𝚜 𝚒𝚜  𝟐𝐱 𝐄𝐱𝐭𝐫𝐚  \n",
       "0           0        0         0  \n",
       "1           0        0         0  \n",
       "\n",
       "[2 rows x 328380 columns]"
      ]
     },
     "execution_count": 30,
     "metadata": {},
     "output_type": "execute_result"
    }
   ],
   "source": [
    "# Getting the first two reviews decoded by the bag of words\n",
    "example_bongram = pd.DataFrame(bongram[0:2].toarray(), columns=vectorizer.get_feature_names_out())\n",
    "\n",
    "example_bongram[0:2]"
   ]
  },
  {
   "cell_type": "code",
   "execution_count": 31,
   "metadata": {},
   "outputs": [
    {
     "data": {
      "text/html": [
       "<div>\n",
       "<style scoped>\n",
       "    .dataframe tbody tr th:only-of-type {\n",
       "        vertical-align: middle;\n",
       "    }\n",
       "\n",
       "    .dataframe tbody tr th {\n",
       "        vertical-align: top;\n",
       "    }\n",
       "\n",
       "    .dataframe thead th {\n",
       "        text-align: right;\n",
       "    }\n",
       "</style>\n",
       "<table border=\"1\" class=\"dataframe\">\n",
       "  <thead>\n",
       "    <tr style=\"text-align: right;\">\n",
       "      <th></th>\n",
       "      <th>also quick</th>\n",
       "      <th>app easy</th>\n",
       "      <th>app super</th>\n",
       "      <th>audio high</th>\n",
       "      <th>easy use</th>\n",
       "      <th>five star</th>\n",
       "      <th>friendly support</th>\n",
       "      <th>give five</th>\n",
       "      <th>great give</th>\n",
       "      <th>great music</th>\n",
       "      <th>...</th>\n",
       "      <th>music service</th>\n",
       "      <th>negative rating</th>\n",
       "      <th>please ignore</th>\n",
       "      <th>previous negative</th>\n",
       "      <th>quality app</th>\n",
       "      <th>quick friendly</th>\n",
       "      <th>rating app</th>\n",
       "      <th>service audio</th>\n",
       "      <th>super great</th>\n",
       "      <th>use also</th>\n",
       "    </tr>\n",
       "  </thead>\n",
       "  <tbody>\n",
       "    <tr>\n",
       "      <th>0</th>\n",
       "      <td>1</td>\n",
       "      <td>1</td>\n",
       "      <td>0</td>\n",
       "      <td>1</td>\n",
       "      <td>1</td>\n",
       "      <td>0</td>\n",
       "      <td>1</td>\n",
       "      <td>0</td>\n",
       "      <td>0</td>\n",
       "      <td>1</td>\n",
       "      <td>...</td>\n",
       "      <td>1</td>\n",
       "      <td>0</td>\n",
       "      <td>0</td>\n",
       "      <td>0</td>\n",
       "      <td>1</td>\n",
       "      <td>1</td>\n",
       "      <td>0</td>\n",
       "      <td>1</td>\n",
       "      <td>0</td>\n",
       "      <td>1</td>\n",
       "    </tr>\n",
       "    <tr>\n",
       "      <th>1</th>\n",
       "      <td>0</td>\n",
       "      <td>0</td>\n",
       "      <td>1</td>\n",
       "      <td>0</td>\n",
       "      <td>0</td>\n",
       "      <td>1</td>\n",
       "      <td>0</td>\n",
       "      <td>1</td>\n",
       "      <td>1</td>\n",
       "      <td>0</td>\n",
       "      <td>...</td>\n",
       "      <td>0</td>\n",
       "      <td>1</td>\n",
       "      <td>1</td>\n",
       "      <td>1</td>\n",
       "      <td>0</td>\n",
       "      <td>0</td>\n",
       "      <td>1</td>\n",
       "      <td>0</td>\n",
       "      <td>1</td>\n",
       "      <td>0</td>\n",
       "    </tr>\n",
       "  </tbody>\n",
       "</table>\n",
       "<p>2 rows × 22 columns</p>\n",
       "</div>"
      ],
      "text/plain": [
       "   also quick  app easy  app super  audio high  easy use  five star  \\\n",
       "0           1         1          0           1         1          0   \n",
       "1           0         0          1           0         0          1   \n",
       "\n",
       "   friendly support  give five  great give  great music  ...  music service  \\\n",
       "0                 1          0           0            1  ...              1   \n",
       "1                 0          1           1            0  ...              0   \n",
       "\n",
       "   negative rating  please ignore  previous negative  quality app  \\\n",
       "0                0              0                  0            1   \n",
       "1                1              1                  1            0   \n",
       "\n",
       "   quick friendly  rating app  service audio  super great  use also  \n",
       "0               1           0              1            0         1  \n",
       "1               0           1              0            1         0  \n",
       "\n",
       "[2 rows x 22 columns]"
      ]
     },
     "execution_count": 31,
     "metadata": {},
     "output_type": "execute_result"
    }
   ],
   "source": [
    "# Getting only columns where there are words present in those reviews\n",
    "list_columns = [label for label, content in example_bongram.items() if any(content > 0)]\n",
    "\n",
    "# Printing the results\n",
    "example_bongram.loc[0:2, list_columns]"
   ]
  },
  {
   "cell_type": "code",
   "execution_count": 32,
   "metadata": {},
   "outputs": [
    {
     "data": {
      "text/plain": [
       "('great music service audio high quality app easy use also quick friendly support',\n",
       " 'please ignore previous negative rating app super great give five star')"
      ]
     },
     "execution_count": 32,
     "metadata": {},
     "output_type": "execute_result"
    }
   ],
   "source": [
    "# Text of the first two reviews\n",
    "corpus_lem[0], corpus_lem[1]"
   ]
  }
 ],
 "metadata": {
  "kernelspec": {
   "display_name": "sentiment_analysis_env",
   "language": "python",
   "name": "python3"
  },
  "language_info": {
   "codemirror_mode": {
    "name": "ipython",
    "version": 3
   },
   "file_extension": ".py",
   "mimetype": "text/x-python",
   "name": "python",
   "nbconvert_exporter": "python",
   "pygments_lexer": "ipython3",
   "version": "3.8.15"
  },
  "orig_nbformat": 4
 },
 "nbformat": 4,
 "nbformat_minor": 2
}
